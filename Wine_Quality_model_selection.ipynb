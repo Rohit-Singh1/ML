{
  "nbformat": 4,
  "nbformat_minor": 0,
  "metadata": {
    "colab": {
      "name": "Wine_Quality.ipynb",
      "provenance": [],
      "authorship_tag": "ABX9TyO0kTdpso0cG98r3JeRNiPQ",
      "include_colab_link": true
    },
    "kernelspec": {
      "display_name": "Python 3",
      "name": "python3"
    }
  },
  "cells": [
    {
      "cell_type": "markdown",
      "metadata": {
        "id": "view-in-github",
        "colab_type": "text"
      },
      "source": [
        "<a href=\"https://colab.research.google.com/github/Rohit-Singh1/ML/blob/main/Wine_Quality_model_selection.ipynb\" target=\"_parent\"><img src=\"https://colab.research.google.com/assets/colab-badge.svg\" alt=\"Open In Colab\"/></a>"
      ]
    },
    {
      "cell_type": "markdown",
      "metadata": {
        "id": "KfyEuIUU9Usc"
      },
      "source": [
        "**WINE QUALITY PREDICTION USING DIFFERENT MODELS KEEPING THE ALL THE FEATURES GIVEN IN THE DATASET FOR TRAINING**"
      ]
    },
    {
      "cell_type": "code",
      "metadata": {
        "id": "TacYlrGTWaLT"
      },
      "source": [
        "import pandas as pd\n",
        "import numpy as np"
      ],
      "execution_count": 56,
      "outputs": []
    },
    {
      "cell_type": "code",
      "metadata": {
        "id": "_A4T-f13X7rE"
      },
      "source": [
        "df = pd.read_csv('winequality-red.csv',sep=';')"
      ],
      "execution_count": 57,
      "outputs": []
    },
    {
      "cell_type": "code",
      "metadata": {
        "colab": {
          "base_uri": "https://localhost:8080/"
        },
        "id": "JgBjWDEyYZOP",
        "outputId": "d51b6bb6-324e-473a-a167-631ca4a6d634"
      },
      "source": [
        "df.columns"
      ],
      "execution_count": 58,
      "outputs": [
        {
          "output_type": "execute_result",
          "data": {
            "text/plain": [
              "Index(['fixed acidity', 'volatile acidity', 'citric acid', 'residual sugar',\n",
              "       'chlorides', 'free sulfur dioxide', 'total sulfur dioxide', 'density',\n",
              "       'pH', 'sulphates', 'alcohol', 'quality'],\n",
              "      dtype='object')"
            ]
          },
          "metadata": {
            "tags": []
          },
          "execution_count": 58
        }
      ]
    },
    {
      "cell_type": "code",
      "metadata": {
        "colab": {
          "base_uri": "https://localhost:8080/",
          "height": 224
        },
        "id": "57K-h0HvYgNd",
        "outputId": "b3c38019-e156-400b-e38e-4a32e4875b82"
      },
      "source": [
        "df.head()"
      ],
      "execution_count": 59,
      "outputs": [
        {
          "output_type": "execute_result",
          "data": {
            "text/html": [
              "<div>\n",
              "<style scoped>\n",
              "    .dataframe tbody tr th:only-of-type {\n",
              "        vertical-align: middle;\n",
              "    }\n",
              "\n",
              "    .dataframe tbody tr th {\n",
              "        vertical-align: top;\n",
              "    }\n",
              "\n",
              "    .dataframe thead th {\n",
              "        text-align: right;\n",
              "    }\n",
              "</style>\n",
              "<table border=\"1\" class=\"dataframe\">\n",
              "  <thead>\n",
              "    <tr style=\"text-align: right;\">\n",
              "      <th></th>\n",
              "      <th>fixed acidity</th>\n",
              "      <th>volatile acidity</th>\n",
              "      <th>citric acid</th>\n",
              "      <th>residual sugar</th>\n",
              "      <th>chlorides</th>\n",
              "      <th>free sulfur dioxide</th>\n",
              "      <th>total sulfur dioxide</th>\n",
              "      <th>density</th>\n",
              "      <th>pH</th>\n",
              "      <th>sulphates</th>\n",
              "      <th>alcohol</th>\n",
              "      <th>quality</th>\n",
              "    </tr>\n",
              "  </thead>\n",
              "  <tbody>\n",
              "    <tr>\n",
              "      <th>0</th>\n",
              "      <td>7.4</td>\n",
              "      <td>0.70</td>\n",
              "      <td>0.00</td>\n",
              "      <td>1.9</td>\n",
              "      <td>0.076</td>\n",
              "      <td>11.0</td>\n",
              "      <td>34.0</td>\n",
              "      <td>0.9978</td>\n",
              "      <td>3.51</td>\n",
              "      <td>0.56</td>\n",
              "      <td>9.4</td>\n",
              "      <td>5</td>\n",
              "    </tr>\n",
              "    <tr>\n",
              "      <th>1</th>\n",
              "      <td>7.8</td>\n",
              "      <td>0.88</td>\n",
              "      <td>0.00</td>\n",
              "      <td>2.6</td>\n",
              "      <td>0.098</td>\n",
              "      <td>25.0</td>\n",
              "      <td>67.0</td>\n",
              "      <td>0.9968</td>\n",
              "      <td>3.20</td>\n",
              "      <td>0.68</td>\n",
              "      <td>9.8</td>\n",
              "      <td>5</td>\n",
              "    </tr>\n",
              "    <tr>\n",
              "      <th>2</th>\n",
              "      <td>7.8</td>\n",
              "      <td>0.76</td>\n",
              "      <td>0.04</td>\n",
              "      <td>2.3</td>\n",
              "      <td>0.092</td>\n",
              "      <td>15.0</td>\n",
              "      <td>54.0</td>\n",
              "      <td>0.9970</td>\n",
              "      <td>3.26</td>\n",
              "      <td>0.65</td>\n",
              "      <td>9.8</td>\n",
              "      <td>5</td>\n",
              "    </tr>\n",
              "    <tr>\n",
              "      <th>3</th>\n",
              "      <td>11.2</td>\n",
              "      <td>0.28</td>\n",
              "      <td>0.56</td>\n",
              "      <td>1.9</td>\n",
              "      <td>0.075</td>\n",
              "      <td>17.0</td>\n",
              "      <td>60.0</td>\n",
              "      <td>0.9980</td>\n",
              "      <td>3.16</td>\n",
              "      <td>0.58</td>\n",
              "      <td>9.8</td>\n",
              "      <td>6</td>\n",
              "    </tr>\n",
              "    <tr>\n",
              "      <th>4</th>\n",
              "      <td>7.4</td>\n",
              "      <td>0.70</td>\n",
              "      <td>0.00</td>\n",
              "      <td>1.9</td>\n",
              "      <td>0.076</td>\n",
              "      <td>11.0</td>\n",
              "      <td>34.0</td>\n",
              "      <td>0.9978</td>\n",
              "      <td>3.51</td>\n",
              "      <td>0.56</td>\n",
              "      <td>9.4</td>\n",
              "      <td>5</td>\n",
              "    </tr>\n",
              "  </tbody>\n",
              "</table>\n",
              "</div>"
            ],
            "text/plain": [
              "   fixed acidity  volatile acidity  citric acid  ...  sulphates  alcohol  quality\n",
              "0            7.4              0.70         0.00  ...       0.56      9.4        5\n",
              "1            7.8              0.88         0.00  ...       0.68      9.8        5\n",
              "2            7.8              0.76         0.04  ...       0.65      9.8        5\n",
              "3           11.2              0.28         0.56  ...       0.58      9.8        6\n",
              "4            7.4              0.70         0.00  ...       0.56      9.4        5\n",
              "\n",
              "[5 rows x 12 columns]"
            ]
          },
          "metadata": {
            "tags": []
          },
          "execution_count": 59
        }
      ]
    },
    {
      "cell_type": "code",
      "metadata": {
        "colab": {
          "base_uri": "https://localhost:8080/"
        },
        "id": "T4wZMmi6g7P0",
        "outputId": "0eeaf337-4223-4a4a-9557-3a047b06a803"
      },
      "source": [
        "df.isna().sum()"
      ],
      "execution_count": 60,
      "outputs": [
        {
          "output_type": "execute_result",
          "data": {
            "text/plain": [
              "fixed acidity           0\n",
              "volatile acidity        0\n",
              "citric acid             0\n",
              "residual sugar          0\n",
              "chlorides               0\n",
              "free sulfur dioxide     0\n",
              "total sulfur dioxide    0\n",
              "density                 0\n",
              "pH                      0\n",
              "sulphates               0\n",
              "alcohol                 0\n",
              "quality                 0\n",
              "dtype: int64"
            ]
          },
          "metadata": {
            "tags": []
          },
          "execution_count": 60
        }
      ]
    },
    {
      "cell_type": "code",
      "metadata": {
        "id": "uK0tMAmMa4gH"
      },
      "source": [
        "y = df['quality']\n",
        "X = df.drop('quality',axis=1)"
      ],
      "execution_count": 61,
      "outputs": []
    },
    {
      "cell_type": "code",
      "metadata": {
        "colab": {
          "base_uri": "https://localhost:8080/"
        },
        "id": "WIG4v75ZbdjX",
        "outputId": "6d422eba-063e-49d7-ed96-7732cbf3e46a"
      },
      "source": [
        "y.shape,X.shape"
      ],
      "execution_count": 62,
      "outputs": [
        {
          "output_type": "execute_result",
          "data": {
            "text/plain": [
              "((1599,), (1599, 11))"
            ]
          },
          "metadata": {
            "tags": []
          },
          "execution_count": 62
        }
      ]
    },
    {
      "cell_type": "code",
      "metadata": {
        "colab": {
          "base_uri": "https://localhost:8080/"
        },
        "id": "82tncKfUbgYj",
        "outputId": "09ee6ded-08c1-4348-9ee5-b1ddcf529137"
      },
      "source": [
        "X.columns"
      ],
      "execution_count": 63,
      "outputs": [
        {
          "output_type": "execute_result",
          "data": {
            "text/plain": [
              "Index(['fixed acidity', 'volatile acidity', 'citric acid', 'residual sugar',\n",
              "       'chlorides', 'free sulfur dioxide', 'total sulfur dioxide', 'density',\n",
              "       'pH', 'sulphates', 'alcohol'],\n",
              "      dtype='object')"
            ]
          },
          "metadata": {
            "tags": []
          },
          "execution_count": 63
        }
      ]
    },
    {
      "cell_type": "code",
      "metadata": {
        "id": "Poivk24LafTz"
      },
      "source": [
        "from sklearn.model_selection import train_test_split\n",
        "from sklearn.preprocessing import StandardScaler"
      ],
      "execution_count": 64,
      "outputs": []
    },
    {
      "cell_type": "code",
      "metadata": {
        "id": "8T7zJi68dUJ6"
      },
      "source": [
        "scaler = StandardScaler()\n",
        "X_norm = scaler.fit_transform(X)"
      ],
      "execution_count": 65,
      "outputs": []
    },
    {
      "cell_type": "code",
      "metadata": {
        "id": "Fyhp5kIhuEsL"
      },
      "source": [
        "X_train,X_test,y_train,y_test = train_test_split(X_norm,y,test_size=0.33,random_state=42)"
      ],
      "execution_count": 66,
      "outputs": []
    },
    {
      "cell_type": "markdown",
      "metadata": {
        "id": "bIpgZt4Z9fyC"
      },
      "source": [
        "# USING SVM"
      ]
    },
    {
      "cell_type": "code",
      "metadata": {
        "id": "M07YhTjleoTu"
      },
      "source": [
        "from sklearn.svm import SVC"
      ],
      "execution_count": 67,
      "outputs": []
    },
    {
      "cell_type": "code",
      "metadata": {
        "id": "CKzfKrBPmLvB"
      },
      "source": [
        "rbf = SVC(kernel='rbf',C=1).fit(X_train,y_train)"
      ],
      "execution_count": 68,
      "outputs": []
    },
    {
      "cell_type": "code",
      "metadata": {
        "id": "I11pqbmwiSJS"
      },
      "source": [
        "prediction = rbf. predict(X_test)\n",
        "prediction = np.array([round(i) for i in prediction])"
      ],
      "execution_count": 69,
      "outputs": []
    },
    {
      "cell_type": "code",
      "metadata": {
        "id": "ZkPaEzgfiW7N"
      },
      "source": [
        "from sklearn.metrics import accuracy_score\n",
        "from sklearn.metrics import f1_score"
      ],
      "execution_count": 70,
      "outputs": []
    },
    {
      "cell_type": "code",
      "metadata": {
        "colab": {
          "base_uri": "https://localhost:8080/"
        },
        "id": "fhfRCh4TiYuC",
        "outputId": "d768455a-50d0-4b40-b304-5447ab701bcc"
      },
      "source": [
        "accuracy_score(y_test,prediction)"
      ],
      "execution_count": 71,
      "outputs": [
        {
          "output_type": "execute_result",
          "data": {
            "text/plain": [
              "0.5984848484848485"
            ]
          },
          "metadata": {
            "tags": []
          },
          "execution_count": 71
        }
      ]
    },
    {
      "cell_type": "markdown",
      "metadata": {
        "id": "KxkcgQnF9kZj"
      },
      "source": [
        "# Using RandomForestRegresssor"
      ]
    },
    {
      "cell_type": "code",
      "metadata": {
        "id": "t-U-vZjakXNw"
      },
      "source": [
        "from sklearn.ensemble import RandomForestRegressor"
      ],
      "execution_count": 72,
      "outputs": []
    },
    {
      "cell_type": "code",
      "metadata": {
        "colab": {
          "base_uri": "https://localhost:8080/"
        },
        "id": "FzVBF9Cdk37n",
        "outputId": "11d934bb-e6b7-483a-e45c-84ee73b7daad"
      },
      "source": [
        "rf = RandomForestRegressor(n_estimators=200)\n",
        "rf.fit(X_train,y_train)"
      ],
      "execution_count": 73,
      "outputs": [
        {
          "output_type": "execute_result",
          "data": {
            "text/plain": [
              "RandomForestRegressor(bootstrap=True, ccp_alpha=0.0, criterion='mse',\n",
              "                      max_depth=None, max_features='auto', max_leaf_nodes=None,\n",
              "                      max_samples=None, min_impurity_decrease=0.0,\n",
              "                      min_impurity_split=None, min_samples_leaf=1,\n",
              "                      min_samples_split=2, min_weight_fraction_leaf=0.0,\n",
              "                      n_estimators=200, n_jobs=None, oob_score=False,\n",
              "                      random_state=None, verbose=0, warm_start=False)"
            ]
          },
          "metadata": {
            "tags": []
          },
          "execution_count": 73
        }
      ]
    },
    {
      "cell_type": "code",
      "metadata": {
        "id": "gUPab3q4plcH"
      },
      "source": [
        "pred = rf.predict(X_test)"
      ],
      "execution_count": 74,
      "outputs": []
    },
    {
      "cell_type": "code",
      "metadata": {
        "id": "7i8G3houpqwL"
      },
      "source": [
        "pred = np.array([round(i) for i in pred])"
      ],
      "execution_count": 75,
      "outputs": []
    },
    {
      "cell_type": "code",
      "metadata": {
        "colab": {
          "base_uri": "https://localhost:8080/"
        },
        "id": "v64ZZ0Z1qJZu",
        "outputId": "fa3d6781-f073-44ec-c7ff-d699bca9697f"
      },
      "source": [
        "accuracy_score(y_test,pred)"
      ],
      "execution_count": 76,
      "outputs": [
        {
          "output_type": "execute_result",
          "data": {
            "text/plain": [
              "0.6496212121212122"
            ]
          },
          "metadata": {
            "tags": []
          },
          "execution_count": 76
        }
      ]
    },
    {
      "cell_type": "markdown",
      "metadata": {
        "id": "Qqx6YMd19tS-"
      },
      "source": [
        "# Using NN"
      ]
    },
    {
      "cell_type": "code",
      "metadata": {
        "id": "jro-4-yqvOEb"
      },
      "source": [
        "#Using neural networks\n",
        "from keras.utils import to_categorical"
      ],
      "execution_count": 82,
      "outputs": []
    },
    {
      "cell_type": "code",
      "metadata": {
        "id": "STSyZNDqvqx2"
      },
      "source": [
        "y_categorical = to_categorical(y,num_classes=11)"
      ],
      "execution_count": 83,
      "outputs": []
    },
    {
      "cell_type": "code",
      "metadata": {
        "colab": {
          "base_uri": "https://localhost:8080/"
        },
        "id": "dlHKs7eI1vKT",
        "outputId": "30db97fe-d61e-49a9-f41c-4b9b0e88b9a6"
      },
      "source": [
        "y_categorical[:10],y[:10]"
      ],
      "execution_count": 84,
      "outputs": [
        {
          "output_type": "execute_result",
          "data": {
            "text/plain": [
              "(array([[0., 0., 0., 0., 0., 1., 0., 0., 0., 0., 0.],\n",
              "        [0., 0., 0., 0., 0., 1., 0., 0., 0., 0., 0.],\n",
              "        [0., 0., 0., 0., 0., 1., 0., 0., 0., 0., 0.],\n",
              "        [0., 0., 0., 0., 0., 0., 1., 0., 0., 0., 0.],\n",
              "        [0., 0., 0., 0., 0., 1., 0., 0., 0., 0., 0.],\n",
              "        [0., 0., 0., 0., 0., 1., 0., 0., 0., 0., 0.],\n",
              "        [0., 0., 0., 0., 0., 1., 0., 0., 0., 0., 0.],\n",
              "        [0., 0., 0., 0., 0., 0., 0., 1., 0., 0., 0.],\n",
              "        [0., 0., 0., 0., 0., 0., 0., 1., 0., 0., 0.],\n",
              "        [0., 0., 0., 0., 0., 1., 0., 0., 0., 0., 0.]], dtype=float32), 0    5\n",
              " 1    5\n",
              " 2    5\n",
              " 3    6\n",
              " 4    5\n",
              " 5    5\n",
              " 6    5\n",
              " 7    7\n",
              " 8    7\n",
              " 9    5\n",
              " Name: quality, dtype: int64)"
            ]
          },
          "metadata": {
            "tags": []
          },
          "execution_count": 84
        }
      ]
    },
    {
      "cell_type": "code",
      "metadata": {
        "id": "eEkXiJP-zX25"
      },
      "source": [
        "X_train,X_test,y_train,y_test = train_test_split(X_norm,y_categorical,test_size=0.33,random_state=42)"
      ],
      "execution_count": 85,
      "outputs": []
    },
    {
      "cell_type": "code",
      "metadata": {
        "id": "qLhOkF-4vuna"
      },
      "source": [
        "from keras.models import Sequential"
      ],
      "execution_count": 86,
      "outputs": []
    },
    {
      "cell_type": "code",
      "metadata": {
        "colab": {
          "base_uri": "https://localhost:8080/"
        },
        "id": "SAMWrmEc4N3H",
        "outputId": "ca23bb11-2cb4-43dd-a602-d1e152f58e48"
      },
      "source": [
        "X_train.shape"
      ],
      "execution_count": 87,
      "outputs": [
        {
          "output_type": "execute_result",
          "data": {
            "text/plain": [
              "(1071, 11)"
            ]
          },
          "metadata": {
            "tags": []
          },
          "execution_count": 87
        }
      ]
    },
    {
      "cell_type": "code",
      "metadata": {
        "id": "zIuG84GYvzau"
      },
      "source": [
        "\n",
        "from keras.layers import Dense"
      ],
      "execution_count": 88,
      "outputs": []
    },
    {
      "cell_type": "code",
      "metadata": {
        "colab": {
          "base_uri": "https://localhost:8080/"
        },
        "id": "R2rqzVTlv2xL",
        "outputId": "d96e18bc-0af9-4844-c165-8235f474e01a"
      },
      "source": [
        "model = Sequential()\n",
        "model.add(Dense(15,activation='relu',input_dim=X_train.shape[1]))\n",
        "model.add(Dense(15,activation='relu'))\n",
        "model.add(Dense(15,activation='relu'))\n",
        "model.add(Dense(15,activation='relu'))\n",
        "model.add(Dense(15,activation='relu'))\n",
        "model.add(Dense(15,activation='relu'))\n",
        "model.add(Dense(15,activation='relu'))\n",
        "model.add(Dense(11,activation='softmax'))\n",
        "model.compile(loss='categorical_crossentropy',optimizer='adam',metrics=['accuracy'])\n",
        "model.summary()"
      ],
      "execution_count": 89,
      "outputs": [
        {
          "output_type": "stream",
          "text": [
            "Model: \"sequential\"\n",
            "_________________________________________________________________\n",
            "Layer (type)                 Output Shape              Param #   \n",
            "=================================================================\n",
            "dense (Dense)                (None, 15)                180       \n",
            "_________________________________________________________________\n",
            "dense_1 (Dense)              (None, 15)                240       \n",
            "_________________________________________________________________\n",
            "dense_2 (Dense)              (None, 15)                240       \n",
            "_________________________________________________________________\n",
            "dense_3 (Dense)              (None, 15)                240       \n",
            "_________________________________________________________________\n",
            "dense_4 (Dense)              (None, 15)                240       \n",
            "_________________________________________________________________\n",
            "dense_5 (Dense)              (None, 15)                240       \n",
            "_________________________________________________________________\n",
            "dense_6 (Dense)              (None, 15)                240       \n",
            "_________________________________________________________________\n",
            "dense_7 (Dense)              (None, 11)                176       \n",
            "=================================================================\n",
            "Total params: 1,796\n",
            "Trainable params: 1,796\n",
            "Non-trainable params: 0\n",
            "_________________________________________________________________\n"
          ],
          "name": "stdout"
        }
      ]
    },
    {
      "cell_type": "code",
      "metadata": {
        "colab": {
          "base_uri": "https://localhost:8080/"
        },
        "id": "hv7oBLdcy28d",
        "outputId": "5590ddbe-3761-42b3-8dac-8a74f7a5dfdb"
      },
      "source": [
        "model.fit(X_train,y_train,batch_size=10,epochs=200)"
      ],
      "execution_count": 90,
      "outputs": [
        {
          "output_type": "stream",
          "text": [
            "Epoch 1/200\n",
            "108/108 [==============================] - 1s 2ms/step - loss: 2.1025 - accuracy: 0.3417\n",
            "Epoch 2/200\n",
            "108/108 [==============================] - 0s 2ms/step - loss: 1.2412 - accuracy: 0.5473\n",
            "Epoch 3/200\n",
            "108/108 [==============================] - 0s 2ms/step - loss: 1.0932 - accuracy: 0.5889\n",
            "Epoch 4/200\n",
            "108/108 [==============================] - 0s 2ms/step - loss: 0.9916 - accuracy: 0.6044\n",
            "Epoch 5/200\n",
            "108/108 [==============================] - 0s 2ms/step - loss: 0.9925 - accuracy: 0.5778\n",
            "Epoch 6/200\n",
            "108/108 [==============================] - 0s 2ms/step - loss: 0.9985 - accuracy: 0.5875\n",
            "Epoch 7/200\n",
            "108/108 [==============================] - 0s 2ms/step - loss: 0.9833 - accuracy: 0.6190\n",
            "Epoch 8/200\n",
            "108/108 [==============================] - 0s 2ms/step - loss: 0.9912 - accuracy: 0.6017\n",
            "Epoch 9/200\n",
            "108/108 [==============================] - 0s 2ms/step - loss: 0.9284 - accuracy: 0.6181\n",
            "Epoch 10/200\n",
            "108/108 [==============================] - 0s 2ms/step - loss: 0.9518 - accuracy: 0.6270\n",
            "Epoch 11/200\n",
            "108/108 [==============================] - 0s 2ms/step - loss: 0.9570 - accuracy: 0.6046\n",
            "Epoch 12/200\n",
            "108/108 [==============================] - 0s 2ms/step - loss: 0.9687 - accuracy: 0.6039\n",
            "Epoch 13/200\n",
            "108/108 [==============================] - 0s 2ms/step - loss: 0.9233 - accuracy: 0.6243\n",
            "Epoch 14/200\n",
            "108/108 [==============================] - 0s 2ms/step - loss: 0.8909 - accuracy: 0.6269\n",
            "Epoch 15/200\n",
            "108/108 [==============================] - 0s 2ms/step - loss: 0.8674 - accuracy: 0.6272\n",
            "Epoch 16/200\n",
            "108/108 [==============================] - 0s 2ms/step - loss: 0.8981 - accuracy: 0.6473\n",
            "Epoch 17/200\n",
            "108/108 [==============================] - 0s 2ms/step - loss: 0.9114 - accuracy: 0.6359\n",
            "Epoch 18/200\n",
            "108/108 [==============================] - 0s 2ms/step - loss: 0.8661 - accuracy: 0.6309\n",
            "Epoch 19/200\n",
            "108/108 [==============================] - 0s 2ms/step - loss: 0.8898 - accuracy: 0.6222\n",
            "Epoch 20/200\n",
            "108/108 [==============================] - 0s 2ms/step - loss: 0.8764 - accuracy: 0.6392\n",
            "Epoch 21/200\n",
            "108/108 [==============================] - 0s 2ms/step - loss: 0.8675 - accuracy: 0.6481\n",
            "Epoch 22/200\n",
            "108/108 [==============================] - 0s 2ms/step - loss: 0.8773 - accuracy: 0.6452\n",
            "Epoch 23/200\n",
            "108/108 [==============================] - 0s 2ms/step - loss: 0.8705 - accuracy: 0.6199\n",
            "Epoch 24/200\n",
            "108/108 [==============================] - 0s 2ms/step - loss: 0.8587 - accuracy: 0.6396\n",
            "Epoch 25/200\n",
            "108/108 [==============================] - 0s 2ms/step - loss: 0.8824 - accuracy: 0.6167\n",
            "Epoch 26/200\n",
            "108/108 [==============================] - 0s 2ms/step - loss: 0.8624 - accuracy: 0.6425\n",
            "Epoch 27/200\n",
            "108/108 [==============================] - 0s 2ms/step - loss: 0.8695 - accuracy: 0.6329\n",
            "Epoch 28/200\n",
            "108/108 [==============================] - 0s 2ms/step - loss: 0.8416 - accuracy: 0.6523\n",
            "Epoch 29/200\n",
            "108/108 [==============================] - 0s 2ms/step - loss: 0.8400 - accuracy: 0.6646\n",
            "Epoch 30/200\n",
            "108/108 [==============================] - 0s 2ms/step - loss: 0.8407 - accuracy: 0.6699\n",
            "Epoch 31/200\n",
            "108/108 [==============================] - 0s 2ms/step - loss: 0.8123 - accuracy: 0.6577\n",
            "Epoch 32/200\n",
            "108/108 [==============================] - 0s 2ms/step - loss: 0.8489 - accuracy: 0.6424\n",
            "Epoch 33/200\n",
            "108/108 [==============================] - 0s 2ms/step - loss: 0.8415 - accuracy: 0.6537\n",
            "Epoch 34/200\n",
            "108/108 [==============================] - 0s 2ms/step - loss: 0.8143 - accuracy: 0.6651\n",
            "Epoch 35/200\n",
            "108/108 [==============================] - 0s 2ms/step - loss: 0.8051 - accuracy: 0.6726\n",
            "Epoch 36/200\n",
            "108/108 [==============================] - 0s 2ms/step - loss: 0.8121 - accuracy: 0.6706\n",
            "Epoch 37/200\n",
            "108/108 [==============================] - 0s 2ms/step - loss: 0.8560 - accuracy: 0.6503\n",
            "Epoch 38/200\n",
            "108/108 [==============================] - 0s 2ms/step - loss: 0.7813 - accuracy: 0.6778\n",
            "Epoch 39/200\n",
            "108/108 [==============================] - 0s 2ms/step - loss: 0.8062 - accuracy: 0.6814\n",
            "Epoch 40/200\n",
            "108/108 [==============================] - 0s 2ms/step - loss: 0.8097 - accuracy: 0.6653\n",
            "Epoch 41/200\n",
            "108/108 [==============================] - 0s 2ms/step - loss: 0.7412 - accuracy: 0.7180\n",
            "Epoch 42/200\n",
            "108/108 [==============================] - 0s 2ms/step - loss: 0.7994 - accuracy: 0.6765\n",
            "Epoch 43/200\n",
            "108/108 [==============================] - 0s 2ms/step - loss: 0.8121 - accuracy: 0.6872\n",
            "Epoch 44/200\n",
            "108/108 [==============================] - 0s 2ms/step - loss: 0.7915 - accuracy: 0.6762\n",
            "Epoch 45/200\n",
            "108/108 [==============================] - 0s 2ms/step - loss: 0.7398 - accuracy: 0.6808\n",
            "Epoch 46/200\n",
            "108/108 [==============================] - 0s 2ms/step - loss: 0.7777 - accuracy: 0.6966\n",
            "Epoch 47/200\n",
            "108/108 [==============================] - 0s 2ms/step - loss: 0.7776 - accuracy: 0.7038\n",
            "Epoch 48/200\n",
            "108/108 [==============================] - 0s 2ms/step - loss: 0.7789 - accuracy: 0.6853\n",
            "Epoch 49/200\n",
            "108/108 [==============================] - 0s 2ms/step - loss: 0.7690 - accuracy: 0.7036\n",
            "Epoch 50/200\n",
            "108/108 [==============================] - 0s 2ms/step - loss: 0.7624 - accuracy: 0.6849\n",
            "Epoch 51/200\n",
            "108/108 [==============================] - 0s 2ms/step - loss: 0.8026 - accuracy: 0.6858\n",
            "Epoch 52/200\n",
            "108/108 [==============================] - 0s 2ms/step - loss: 0.7744 - accuracy: 0.6759\n",
            "Epoch 53/200\n",
            "108/108 [==============================] - 0s 2ms/step - loss: 0.7480 - accuracy: 0.6905\n",
            "Epoch 54/200\n",
            "108/108 [==============================] - 0s 2ms/step - loss: 0.7299 - accuracy: 0.6915\n",
            "Epoch 55/200\n",
            "108/108 [==============================] - 0s 2ms/step - loss: 0.7612 - accuracy: 0.7046\n",
            "Epoch 56/200\n",
            "108/108 [==============================] - 0s 2ms/step - loss: 0.6943 - accuracy: 0.7289\n",
            "Epoch 57/200\n",
            "108/108 [==============================] - 0s 2ms/step - loss: 0.7089 - accuracy: 0.7240\n",
            "Epoch 58/200\n",
            "108/108 [==============================] - 0s 2ms/step - loss: 0.7651 - accuracy: 0.6825\n",
            "Epoch 59/200\n",
            "108/108 [==============================] - 0s 2ms/step - loss: 0.7433 - accuracy: 0.7131\n",
            "Epoch 60/200\n",
            "108/108 [==============================] - 0s 2ms/step - loss: 0.7354 - accuracy: 0.7102\n",
            "Epoch 61/200\n",
            "108/108 [==============================] - 0s 2ms/step - loss: 0.8701 - accuracy: 0.6580\n",
            "Epoch 62/200\n",
            "108/108 [==============================] - 0s 2ms/step - loss: 0.7399 - accuracy: 0.7042\n",
            "Epoch 63/200\n",
            "108/108 [==============================] - 0s 2ms/step - loss: 0.7656 - accuracy: 0.7022\n",
            "Epoch 64/200\n",
            "108/108 [==============================] - 0s 2ms/step - loss: 0.6950 - accuracy: 0.7301\n",
            "Epoch 65/200\n",
            "108/108 [==============================] - 0s 2ms/step - loss: 0.6867 - accuracy: 0.7451\n",
            "Epoch 66/200\n",
            "108/108 [==============================] - 0s 2ms/step - loss: 0.7292 - accuracy: 0.7060\n",
            "Epoch 67/200\n",
            "108/108 [==============================] - 0s 2ms/step - loss: 0.7088 - accuracy: 0.7286\n",
            "Epoch 68/200\n",
            "108/108 [==============================] - 0s 2ms/step - loss: 0.6694 - accuracy: 0.7474\n",
            "Epoch 69/200\n",
            "108/108 [==============================] - 0s 2ms/step - loss: 0.7050 - accuracy: 0.7234\n",
            "Epoch 70/200\n",
            "108/108 [==============================] - 0s 2ms/step - loss: 0.6922 - accuracy: 0.7387\n",
            "Epoch 71/200\n",
            "108/108 [==============================] - 0s 2ms/step - loss: 0.6922 - accuracy: 0.7374\n",
            "Epoch 72/200\n",
            "108/108 [==============================] - 0s 2ms/step - loss: 0.6474 - accuracy: 0.7492\n",
            "Epoch 73/200\n",
            "108/108 [==============================] - 0s 2ms/step - loss: 0.6479 - accuracy: 0.7608\n",
            "Epoch 74/200\n",
            "108/108 [==============================] - 0s 2ms/step - loss: 0.6556 - accuracy: 0.7519\n",
            "Epoch 75/200\n",
            "108/108 [==============================] - 0s 2ms/step - loss: 0.6857 - accuracy: 0.7328\n",
            "Epoch 76/200\n",
            "108/108 [==============================] - 0s 2ms/step - loss: 0.6921 - accuracy: 0.7113\n",
            "Epoch 77/200\n",
            "108/108 [==============================] - 0s 2ms/step - loss: 0.6601 - accuracy: 0.7714\n",
            "Epoch 78/200\n",
            "108/108 [==============================] - 0s 2ms/step - loss: 0.6519 - accuracy: 0.7566\n",
            "Epoch 79/200\n",
            "108/108 [==============================] - 0s 2ms/step - loss: 0.6701 - accuracy: 0.7464\n",
            "Epoch 80/200\n",
            "108/108 [==============================] - 0s 2ms/step - loss: 0.6983 - accuracy: 0.7301\n",
            "Epoch 81/200\n",
            "108/108 [==============================] - 0s 2ms/step - loss: 0.6450 - accuracy: 0.7726\n",
            "Epoch 82/200\n",
            "108/108 [==============================] - 0s 2ms/step - loss: 0.6870 - accuracy: 0.7452\n",
            "Epoch 83/200\n",
            "108/108 [==============================] - 0s 2ms/step - loss: 0.6306 - accuracy: 0.7633\n",
            "Epoch 84/200\n",
            "108/108 [==============================] - 0s 2ms/step - loss: 0.7104 - accuracy: 0.7438\n",
            "Epoch 85/200\n",
            "108/108 [==============================] - 0s 2ms/step - loss: 0.6331 - accuracy: 0.7682\n",
            "Epoch 86/200\n",
            "108/108 [==============================] - 0s 2ms/step - loss: 0.6624 - accuracy: 0.7535\n",
            "Epoch 87/200\n",
            "108/108 [==============================] - 0s 2ms/step - loss: 0.6705 - accuracy: 0.7447\n",
            "Epoch 88/200\n",
            "108/108 [==============================] - 0s 2ms/step - loss: 0.6570 - accuracy: 0.7333\n",
            "Epoch 89/200\n",
            "108/108 [==============================] - 0s 2ms/step - loss: 0.6425 - accuracy: 0.7688\n",
            "Epoch 90/200\n",
            "108/108 [==============================] - 0s 2ms/step - loss: 0.6464 - accuracy: 0.7462\n",
            "Epoch 91/200\n",
            "108/108 [==============================] - 0s 2ms/step - loss: 0.6488 - accuracy: 0.7446\n",
            "Epoch 92/200\n",
            "108/108 [==============================] - 0s 2ms/step - loss: 0.6030 - accuracy: 0.7663\n",
            "Epoch 93/200\n",
            "108/108 [==============================] - 0s 2ms/step - loss: 0.5729 - accuracy: 0.7911\n",
            "Epoch 94/200\n",
            "108/108 [==============================] - 0s 2ms/step - loss: 0.6073 - accuracy: 0.7775\n",
            "Epoch 95/200\n",
            "108/108 [==============================] - 0s 2ms/step - loss: 0.6534 - accuracy: 0.7575\n",
            "Epoch 96/200\n",
            "108/108 [==============================] - 0s 2ms/step - loss: 0.6654 - accuracy: 0.7515\n",
            "Epoch 97/200\n",
            "108/108 [==============================] - 0s 2ms/step - loss: 0.5982 - accuracy: 0.7997\n",
            "Epoch 98/200\n",
            "108/108 [==============================] - 0s 2ms/step - loss: 0.6044 - accuracy: 0.7733\n",
            "Epoch 99/200\n",
            "108/108 [==============================] - 0s 2ms/step - loss: 0.6250 - accuracy: 0.7581\n",
            "Epoch 100/200\n",
            "108/108 [==============================] - 0s 2ms/step - loss: 0.6320 - accuracy: 0.7422\n",
            "Epoch 101/200\n",
            "108/108 [==============================] - 0s 2ms/step - loss: 0.6137 - accuracy: 0.7656\n",
            "Epoch 102/200\n",
            "108/108 [==============================] - 0s 2ms/step - loss: 0.5757 - accuracy: 0.7854\n",
            "Epoch 103/200\n",
            "108/108 [==============================] - 0s 2ms/step - loss: 0.5709 - accuracy: 0.7922\n",
            "Epoch 104/200\n",
            "108/108 [==============================] - 0s 2ms/step - loss: 0.5827 - accuracy: 0.7669\n",
            "Epoch 105/200\n",
            "108/108 [==============================] - 0s 2ms/step - loss: 0.6158 - accuracy: 0.7596\n",
            "Epoch 106/200\n",
            "108/108 [==============================] - 0s 2ms/step - loss: 0.5982 - accuracy: 0.7776\n",
            "Epoch 107/200\n",
            "108/108 [==============================] - 0s 2ms/step - loss: 0.6153 - accuracy: 0.7749\n",
            "Epoch 108/200\n",
            "108/108 [==============================] - 0s 2ms/step - loss: 0.6104 - accuracy: 0.7769\n",
            "Epoch 109/200\n",
            "108/108 [==============================] - 0s 2ms/step - loss: 0.5795 - accuracy: 0.7758\n",
            "Epoch 110/200\n",
            "108/108 [==============================] - 0s 2ms/step - loss: 0.5730 - accuracy: 0.7950\n",
            "Epoch 111/200\n",
            "108/108 [==============================] - 0s 2ms/step - loss: 0.5757 - accuracy: 0.7960\n",
            "Epoch 112/200\n",
            "108/108 [==============================] - 0s 2ms/step - loss: 0.5726 - accuracy: 0.7854\n",
            "Epoch 113/200\n",
            "108/108 [==============================] - 0s 2ms/step - loss: 0.5748 - accuracy: 0.7671\n",
            "Epoch 114/200\n",
            "108/108 [==============================] - 0s 2ms/step - loss: 0.5494 - accuracy: 0.8021\n",
            "Epoch 115/200\n",
            "108/108 [==============================] - 0s 2ms/step - loss: 0.6060 - accuracy: 0.7689\n",
            "Epoch 116/200\n",
            "108/108 [==============================] - 0s 2ms/step - loss: 0.5504 - accuracy: 0.7942\n",
            "Epoch 117/200\n",
            "108/108 [==============================] - 0s 2ms/step - loss: 0.5567 - accuracy: 0.8030\n",
            "Epoch 118/200\n",
            "108/108 [==============================] - 0s 2ms/step - loss: 0.5754 - accuracy: 0.7752\n",
            "Epoch 119/200\n",
            "108/108 [==============================] - 0s 2ms/step - loss: 0.5301 - accuracy: 0.7966\n",
            "Epoch 120/200\n",
            "108/108 [==============================] - 0s 2ms/step - loss: 0.5388 - accuracy: 0.8040\n",
            "Epoch 121/200\n",
            "108/108 [==============================] - 0s 2ms/step - loss: 0.5470 - accuracy: 0.8032\n",
            "Epoch 122/200\n",
            "108/108 [==============================] - 0s 2ms/step - loss: 0.5714 - accuracy: 0.7840\n",
            "Epoch 123/200\n",
            "108/108 [==============================] - 0s 2ms/step - loss: 0.5027 - accuracy: 0.8265\n",
            "Epoch 124/200\n",
            "108/108 [==============================] - 0s 2ms/step - loss: 0.5145 - accuracy: 0.8132\n",
            "Epoch 125/200\n",
            "108/108 [==============================] - 0s 2ms/step - loss: 0.5694 - accuracy: 0.7810\n",
            "Epoch 126/200\n",
            "108/108 [==============================] - 0s 2ms/step - loss: 0.5274 - accuracy: 0.7914\n",
            "Epoch 127/200\n",
            "108/108 [==============================] - 0s 2ms/step - loss: 0.5126 - accuracy: 0.8170\n",
            "Epoch 128/200\n",
            "108/108 [==============================] - 0s 2ms/step - loss: 0.5337 - accuracy: 0.8122\n",
            "Epoch 129/200\n",
            "108/108 [==============================] - 0s 2ms/step - loss: 0.5524 - accuracy: 0.7941\n",
            "Epoch 130/200\n",
            "108/108 [==============================] - 0s 2ms/step - loss: 0.5051 - accuracy: 0.8231\n",
            "Epoch 131/200\n",
            "108/108 [==============================] - 0s 2ms/step - loss: 0.5542 - accuracy: 0.7993\n",
            "Epoch 132/200\n",
            "108/108 [==============================] - 0s 2ms/step - loss: 0.4937 - accuracy: 0.8280\n",
            "Epoch 133/200\n",
            "108/108 [==============================] - 0s 2ms/step - loss: 0.5362 - accuracy: 0.8061\n",
            "Epoch 134/200\n",
            "108/108 [==============================] - 0s 2ms/step - loss: 0.5413 - accuracy: 0.8010\n",
            "Epoch 135/200\n",
            "108/108 [==============================] - 0s 2ms/step - loss: 0.4839 - accuracy: 0.8113\n",
            "Epoch 136/200\n",
            "108/108 [==============================] - 0s 2ms/step - loss: 0.4976 - accuracy: 0.8188\n",
            "Epoch 137/200\n",
            "108/108 [==============================] - 0s 2ms/step - loss: 0.5185 - accuracy: 0.7953\n",
            "Epoch 138/200\n",
            "108/108 [==============================] - 0s 2ms/step - loss: 0.4967 - accuracy: 0.8071\n",
            "Epoch 139/200\n",
            "108/108 [==============================] - 0s 2ms/step - loss: 0.5135 - accuracy: 0.8031\n",
            "Epoch 140/200\n",
            "108/108 [==============================] - 0s 2ms/step - loss: 0.4924 - accuracy: 0.8081\n",
            "Epoch 141/200\n",
            "108/108 [==============================] - 0s 2ms/step - loss: 0.4888 - accuracy: 0.8156\n",
            "Epoch 142/200\n",
            "108/108 [==============================] - 0s 2ms/step - loss: 0.5021 - accuracy: 0.7944\n",
            "Epoch 143/200\n",
            "108/108 [==============================] - 0s 2ms/step - loss: 0.4661 - accuracy: 0.8255\n",
            "Epoch 144/200\n",
            "108/108 [==============================] - 0s 2ms/step - loss: 0.4944 - accuracy: 0.8026\n",
            "Epoch 145/200\n",
            "108/108 [==============================] - 0s 2ms/step - loss: 0.5028 - accuracy: 0.8203\n",
            "Epoch 146/200\n",
            "108/108 [==============================] - 0s 2ms/step - loss: 0.4676 - accuracy: 0.8208\n",
            "Epoch 147/200\n",
            "108/108 [==============================] - 0s 2ms/step - loss: 0.5536 - accuracy: 0.7828\n",
            "Epoch 148/200\n",
            "108/108 [==============================] - 0s 2ms/step - loss: 0.4802 - accuracy: 0.8264\n",
            "Epoch 149/200\n",
            "108/108 [==============================] - 0s 2ms/step - loss: 0.5006 - accuracy: 0.8301\n",
            "Epoch 150/200\n",
            "108/108 [==============================] - 0s 2ms/step - loss: 0.4797 - accuracy: 0.8366\n",
            "Epoch 151/200\n",
            "108/108 [==============================] - 0s 2ms/step - loss: 0.4741 - accuracy: 0.8147\n",
            "Epoch 152/200\n",
            "108/108 [==============================] - 0s 2ms/step - loss: 0.5026 - accuracy: 0.8209\n",
            "Epoch 153/200\n",
            "108/108 [==============================] - 0s 2ms/step - loss: 0.4863 - accuracy: 0.8242\n",
            "Epoch 154/200\n",
            "108/108 [==============================] - 0s 2ms/step - loss: 0.4925 - accuracy: 0.8096\n",
            "Epoch 155/200\n",
            "108/108 [==============================] - 0s 2ms/step - loss: 0.4887 - accuracy: 0.8205\n",
            "Epoch 156/200\n",
            "108/108 [==============================] - 0s 2ms/step - loss: 0.4891 - accuracy: 0.8198\n",
            "Epoch 157/200\n",
            "108/108 [==============================] - 0s 2ms/step - loss: 0.4679 - accuracy: 0.8284\n",
            "Epoch 158/200\n",
            "108/108 [==============================] - 0s 2ms/step - loss: 0.4761 - accuracy: 0.8300\n",
            "Epoch 159/200\n",
            "108/108 [==============================] - 0s 2ms/step - loss: 0.4737 - accuracy: 0.8196\n",
            "Epoch 160/200\n",
            "108/108 [==============================] - 0s 2ms/step - loss: 0.4581 - accuracy: 0.8384\n",
            "Epoch 161/200\n",
            "108/108 [==============================] - 0s 2ms/step - loss: 0.4510 - accuracy: 0.8286\n",
            "Epoch 162/200\n",
            "108/108 [==============================] - 0s 2ms/step - loss: 0.4482 - accuracy: 0.8379\n",
            "Epoch 163/200\n",
            "108/108 [==============================] - 0s 2ms/step - loss: 0.4507 - accuracy: 0.8304\n",
            "Epoch 164/200\n",
            "108/108 [==============================] - 0s 2ms/step - loss: 0.4186 - accuracy: 0.8508\n",
            "Epoch 165/200\n",
            "108/108 [==============================] - 0s 2ms/step - loss: 0.4517 - accuracy: 0.8504\n",
            "Epoch 166/200\n",
            "108/108 [==============================] - 0s 2ms/step - loss: 0.4513 - accuracy: 0.8397\n",
            "Epoch 167/200\n",
            "108/108 [==============================] - 0s 2ms/step - loss: 0.4865 - accuracy: 0.8216\n",
            "Epoch 168/200\n",
            "108/108 [==============================] - 0s 2ms/step - loss: 0.5151 - accuracy: 0.8080\n",
            "Epoch 169/200\n",
            "108/108 [==============================] - 0s 2ms/step - loss: 0.4410 - accuracy: 0.8406\n",
            "Epoch 170/200\n",
            "108/108 [==============================] - 0s 2ms/step - loss: 0.4459 - accuracy: 0.8420\n",
            "Epoch 171/200\n",
            "108/108 [==============================] - 0s 2ms/step - loss: 0.4135 - accuracy: 0.8552\n",
            "Epoch 172/200\n",
            "108/108 [==============================] - 0s 2ms/step - loss: 0.4188 - accuracy: 0.8358\n",
            "Epoch 173/200\n",
            "108/108 [==============================] - 0s 2ms/step - loss: 0.4367 - accuracy: 0.8359\n",
            "Epoch 174/200\n",
            "108/108 [==============================] - 0s 2ms/step - loss: 0.4343 - accuracy: 0.8406\n",
            "Epoch 175/200\n",
            "108/108 [==============================] - 0s 2ms/step - loss: 0.4292 - accuracy: 0.8500\n",
            "Epoch 176/200\n",
            "108/108 [==============================] - 0s 2ms/step - loss: 0.4901 - accuracy: 0.8229\n",
            "Epoch 177/200\n",
            "108/108 [==============================] - 0s 2ms/step - loss: 0.4549 - accuracy: 0.8304\n",
            "Epoch 178/200\n",
            "108/108 [==============================] - 0s 2ms/step - loss: 0.4233 - accuracy: 0.8474\n",
            "Epoch 179/200\n",
            "108/108 [==============================] - 0s 2ms/step - loss: 0.3926 - accuracy: 0.8678\n",
            "Epoch 180/200\n",
            "108/108 [==============================] - 0s 2ms/step - loss: 0.4159 - accuracy: 0.8350\n",
            "Epoch 181/200\n",
            "108/108 [==============================] - 0s 2ms/step - loss: 0.4260 - accuracy: 0.8471\n",
            "Epoch 182/200\n",
            "108/108 [==============================] - 0s 2ms/step - loss: 0.4598 - accuracy: 0.8373\n",
            "Epoch 183/200\n",
            "108/108 [==============================] - 0s 2ms/step - loss: 0.4283 - accuracy: 0.8375\n",
            "Epoch 184/200\n",
            "108/108 [==============================] - 0s 2ms/step - loss: 0.4077 - accuracy: 0.8651\n",
            "Epoch 185/200\n",
            "108/108 [==============================] - 0s 2ms/step - loss: 0.4017 - accuracy: 0.8679\n",
            "Epoch 186/200\n",
            "108/108 [==============================] - 0s 2ms/step - loss: 0.3981 - accuracy: 0.8624\n",
            "Epoch 187/200\n",
            "108/108 [==============================] - 0s 2ms/step - loss: 0.4466 - accuracy: 0.8459\n",
            "Epoch 188/200\n",
            "108/108 [==============================] - 0s 2ms/step - loss: 0.3874 - accuracy: 0.8647\n",
            "Epoch 189/200\n",
            "108/108 [==============================] - 0s 2ms/step - loss: 0.5131 - accuracy: 0.8086\n",
            "Epoch 190/200\n",
            "108/108 [==============================] - 0s 2ms/step - loss: 0.3698 - accuracy: 0.8692\n",
            "Epoch 191/200\n",
            "108/108 [==============================] - 0s 3ms/step - loss: 0.4002 - accuracy: 0.8662\n",
            "Epoch 192/200\n",
            "108/108 [==============================] - 0s 2ms/step - loss: 0.4170 - accuracy: 0.8512\n",
            "Epoch 193/200\n",
            "108/108 [==============================] - 0s 2ms/step - loss: 0.5458 - accuracy: 0.8002\n",
            "Epoch 194/200\n",
            "108/108 [==============================] - 0s 2ms/step - loss: 0.4218 - accuracy: 0.8569\n",
            "Epoch 195/200\n",
            "108/108 [==============================] - 0s 2ms/step - loss: 0.4737 - accuracy: 0.8371\n",
            "Epoch 196/200\n",
            "108/108 [==============================] - 0s 2ms/step - loss: 0.3556 - accuracy: 0.8736\n",
            "Epoch 197/200\n",
            "108/108 [==============================] - 0s 2ms/step - loss: 0.3821 - accuracy: 0.8600\n",
            "Epoch 198/200\n",
            "108/108 [==============================] - 0s 2ms/step - loss: 0.4330 - accuracy: 0.8378\n",
            "Epoch 199/200\n",
            "108/108 [==============================] - 0s 2ms/step - loss: 0.4279 - accuracy: 0.8450\n",
            "Epoch 200/200\n",
            "108/108 [==============================] - 0s 2ms/step - loss: 0.3726 - accuracy: 0.8605\n"
          ],
          "name": "stdout"
        },
        {
          "output_type": "execute_result",
          "data": {
            "text/plain": [
              "<tensorflow.python.keras.callbacks.History at 0x7f85c31b4050>"
            ]
          },
          "metadata": {
            "tags": []
          },
          "execution_count": 90
        }
      ]
    },
    {
      "cell_type": "code",
      "metadata": {
        "id": "l-qlDJJXzFFN"
      },
      "source": [
        "perd = model.predict(X_test)"
      ],
      "execution_count": 91,
      "outputs": []
    },
    {
      "cell_type": "code",
      "metadata": {
        "colab": {
          "base_uri": "https://localhost:8080/"
        },
        "id": "w-BJ880GUn8t",
        "outputId": "8504e70b-113e-4dec-9d65-cc3aef79fabf"
      },
      "source": [
        "type(perd)"
      ],
      "execution_count": 92,
      "outputs": [
        {
          "output_type": "execute_result",
          "data": {
            "text/plain": [
              "numpy.ndarray"
            ]
          },
          "metadata": {
            "tags": []
          },
          "execution_count": 92
        }
      ]
    },
    {
      "cell_type": "code",
      "metadata": {
        "id": "tzhcc6c_UyI5"
      },
      "source": [
        "pred = (perd > 0.5)"
      ],
      "execution_count": 93,
      "outputs": []
    },
    {
      "cell_type": "code",
      "metadata": {
        "colab": {
          "base_uri": "https://localhost:8080/"
        },
        "id": "hDdCuI2XUzUz",
        "outputId": "5cadbddc-a8b6-4325-809f-08d6f4967f60"
      },
      "source": [
        "accuracy_score(y_test,pred)"
      ],
      "execution_count": 94,
      "outputs": [
        {
          "output_type": "execute_result",
          "data": {
            "text/plain": [
              "0.5662878787878788"
            ]
          },
          "metadata": {
            "tags": []
          },
          "execution_count": 94
        }
      ]
    }
  ]
}