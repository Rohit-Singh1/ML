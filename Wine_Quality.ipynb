{
  "nbformat": 4,
  "nbformat_minor": 0,
  "metadata": {
    "colab": {
      "name": "Untitled5.ipynb",
      "provenance": [],
      "collapsed_sections": [],
      "authorship_tag": "ABX9TyP6ayaiemFlsNYr4tr7+Gqg",
      "include_colab_link": true
    },
    "kernelspec": {
      "name": "python3",
      "display_name": "Python 3"
    }
  },
  "cells": [
    {
      "cell_type": "markdown",
      "metadata": {
        "id": "view-in-github",
        "colab_type": "text"
      },
      "source": [
        "<a href=\"https://colab.research.google.com/github/Rohit-Singh1/ML/blob/main/Wine_Quality.ipynb\" target=\"_parent\"><img src=\"https://colab.research.google.com/assets/colab-badge.svg\" alt=\"Open In Colab\"/></a>"
      ]
    },
    {
      "cell_type": "markdown",
      "metadata": {
        "id": "XgDNAUgYfg1Z"
      },
      "source": [
        "\n",
        "**Multiple models has been tested and Random Forest provided the best result. SVM provided better accuracy than Neural Networks. The accuracy of neural networks model is about 57 % while SVM , the accuracy obtained is 63%. Random forest provided best accuract with overall accuracy of 66%**\n"
      ]
    },
    {
      "cell_type": "code",
      "metadata": {
        "id": "TacYlrGTWaLT"
      },
      "source": [
        "import pandas as pd\n",
        "import numpy as np"
      ],
      "execution_count": 1,
      "outputs": []
    },
    {
      "cell_type": "code",
      "metadata": {
        "id": "_A4T-f13X7rE"
      },
      "source": [
        "df = pd.read_csv('winequality-red.csv',sep=';')"
      ],
      "execution_count": 2,
      "outputs": []
    },
    {
      "cell_type": "code",
      "metadata": {
        "colab": {
          "base_uri": "https://localhost:8080/"
        },
        "id": "T4wZMmi6g7P0",
        "outputId": "2829e995-aec1-4c54-ed64-a53f471e6e37"
      },
      "source": [
        "df.isna().sum()"
      ],
      "execution_count": 3,
      "outputs": [
        {
          "output_type": "execute_result",
          "data": {
            "text/plain": [
              "fixed acidity           0\n",
              "volatile acidity        0\n",
              "citric acid             0\n",
              "residual sugar          0\n",
              "chlorides               0\n",
              "free sulfur dioxide     0\n",
              "total sulfur dioxide    0\n",
              "density                 0\n",
              "pH                      0\n",
              "sulphates               0\n",
              "alcohol                 0\n",
              "quality                 0\n",
              "dtype: int64"
            ]
          },
          "metadata": {
            "tags": []
          },
          "execution_count": 3
        }
      ]
    },
    {
      "cell_type": "code",
      "metadata": {
        "id": "UTwE1jSDWxUL"
      },
      "source": [
        "#Selecting only important features for quality prediction. These features are selected after couple of tests"
      ],
      "execution_count": 4,
      "outputs": []
    },
    {
      "cell_type": "markdown",
      "metadata": {
        "id": "PHxMsoI8f4kd"
      },
      "source": [
        "**Out of 11 features we selected only 7 features because these are mainly contibuting to quality prediction. \n",
        "Also, after doing test on models one with all features and other with selected features , model with only selected features performed slightly better.**"
      ]
    },
    {
      "cell_type": "code",
      "metadata": {
        "id": "uK0tMAmMa4gH"
      },
      "source": [
        "X = df.loc[:,['volatile acidity', 'chlorides', 'free sulfur dioxide',  \n",
        "             'total sulfur dioxide',  'pH',  'sulphates','alcohol']]\n",
        "y = df['quality']"
      ],
      "execution_count": 23,
      "outputs": []
    },
    {
      "cell_type": "code",
      "metadata": {
        "id": "Poivk24LafTz"
      },
      "source": [
        "from sklearn.model_selection import train_test_split\n",
        "from sklearn.preprocessing import StandardScaler\n",
        "from sklearn.ensemble import RandomForestRegressor\n",
        "from sklearn.pipeline import Pipeline"
      ],
      "execution_count": 24,
      "outputs": []
    },
    {
      "cell_type": "code",
      "metadata": {
        "id": "jDLGpdO6fHZ7"
      },
      "source": [
        "X_train,X_test,y_train,y_test = train_test_split(X,y,test_size=0.33,random_state=43)"
      ],
      "execution_count": 25,
      "outputs": []
    },
    {
      "cell_type": "code",
      "metadata": {
        "id": "4FsGvVYjqlD1"
      },
      "source": [
        "pipeline = Pipeline([('scaler',StandardScaler()),('rf',RandomForestRegressor(n_estimators=300))])"
      ],
      "execution_count": 26,
      "outputs": []
    },
    {
      "cell_type": "code",
      "metadata": {
        "id": "hxRcLZkYuiTj"
      },
      "source": [
        "model_p = pipeline.fit(X_train,y_train)"
      ],
      "execution_count": 27,
      "outputs": []
    },
    {
      "cell_type": "code",
      "metadata": {
        "id": "DUlGa4B2uo_v"
      },
      "source": [
        "pred_p = np.array([round(i) for i in model_p.predict(X_test)])"
      ],
      "execution_count": 39,
      "outputs": []
    },
    {
      "cell_type": "code",
      "metadata": {
        "id": "ZkPaEzgfiW7N"
      },
      "source": [
        "from sklearn.metrics import accuracy_score\n",
        "from sklearn.metrics import f1_score"
      ],
      "execution_count": 40,
      "outputs": []
    },
    {
      "cell_type": "code",
      "metadata": {
        "colab": {
          "base_uri": "https://localhost:8080/"
        },
        "id": "M_ubslKSuxx9",
        "outputId": "700465c0-42ac-42f0-c806-324d60441cb6"
      },
      "source": [
        "accuracy_score(y_test,pred_p)"
      ],
      "execution_count": 41,
      "outputs": [
        {
          "output_type": "execute_result",
          "data": {
            "text/plain": [
              "0.6666666666666666"
            ]
          },
          "metadata": {
            "tags": []
          },
          "execution_count": 41
        }
      ]
    },
    {
      "cell_type": "code",
      "metadata": {
        "colab": {
          "base_uri": "https://localhost:8080/"
        },
        "id": "-F-sKO97fWFv",
        "outputId": "17ba0336-e783-44f4-c29d-efbb65d135d7"
      },
      "source": [
        "f1_score(y_test,pred_p,average='micro')"
      ],
      "execution_count": 31,
      "outputs": [
        {
          "output_type": "execute_result",
          "data": {
            "text/plain": [
              "0.6666666666666666"
            ]
          },
          "metadata": {
            "tags": []
          },
          "execution_count": 31
        }
      ]
    },
    {
      "cell_type": "markdown",
      "metadata": {
        "id": "aBVV_LWogipc"
      },
      "source": [
        "**Our Model is provinding 66 % accuracy. If we allow tolerance values  T = 1.0 which are practical to take. We achieve more accuracy.**"
      ]
    },
    {
      "cell_type": "code",
      "metadata": {
        "colab": {
          "base_uri": "https://localhost:8080/"
        },
        "id": "q7cfQQlmfcva",
        "outputId": "887de957-78af-451b-d1de-fcc71bbadff8"
      },
      "source": [
        "prediction = model_p.predict(X_test)\n",
        "y_test = np.array(y_test)\n",
        "cnt = 0 \n",
        "for i in range(prediction.shape[0]):\n",
        "  if abs(prediction[i] - y_test[i]) <= 1:\n",
        "    cnt += 1\n",
        "\n",
        "print(f'accuracy score for tolerance of 1: {cnt/prediction.shape[0]}')"
      ],
      "execution_count": 55,
      "outputs": [
        {
          "output_type": "stream",
          "text": [
            "accuracy score for tolerance of 1: 0.8996212121212122\n"
          ],
          "name": "stdout"
        }
      ]
    },
    {
      "cell_type": "code",
      "metadata": {
        "id": "Xy9uQOwQ476K"
      },
      "source": [
        ""
      ],
      "execution_count": null,
      "outputs": []
    }
  ]
}